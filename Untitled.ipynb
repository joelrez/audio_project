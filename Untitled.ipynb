{
 "cells": [
  {
   "cell_type": "markdown",
   "id": "19e54c5f-37df-48ee-8ffc-14ac6993d9f2",
   "metadata": {},
   "source": [
    "# Audio in Field Simulation"
   ]
  },
  {
   "cell_type": "markdown",
   "id": "b3cb748a-b1c6-4dcc-bf4b-39eb499d96fc",
   "metadata": {},
   "source": [
    "## Imports"
   ]
  },
  {
   "cell_type": "code",
   "execution_count": 1,
   "id": "9d1fb2ca-1e44-4596-9491-9184020ac74f",
   "metadata": {
    "editable": true,
    "slideshow": {
     "slide_type": ""
    },
    "tags": []
   },
   "outputs": [],
   "source": [
    "import numpy as np\n",
    "from numpy import linalg as LA\n",
    "import wave\n",
    "import matplotlib.pyplot as plt\n",
    "from scipy import signal\n",
    "import librosa\n",
    "import notes"
   ]
  },
  {
   "cell_type": "markdown",
   "id": "61d53155-6542-4f9c-8783-c415290c31e7",
   "metadata": {},
   "source": [
    "## Definitions"
   ]
  },
  {
   "cell_type": "code",
   "execution_count": 23,
   "id": "c2d72cec-d4f1-431c-bd76-e144279cc278",
   "metadata": {
    "editable": true,
    "slideshow": {
     "slide_type": ""
    },
    "tags": []
   },
   "outputs": [],
   "source": [
    "microphone = np.array([5,5])\n",
    "\n",
    "object = np.array([5,20])\n",
    "\n",
    "sound = notes.getNote('A4')*100"
   ]
  },
  {
   "cell_type": "code",
   "execution_count": 11,
   "id": "d2e675d2-5351-4c2f-bbff-c8fef12ac002",
   "metadata": {},
   "outputs": [
    {
     "data": {
      "text/plain": [
       "1.0"
      ]
     },
     "execution_count": 11,
     "metadata": {},
     "output_type": "execute_result"
    }
   ],
   "source": [
    "LA.norm(microphone - object)"
   ]
  },
  {
   "cell_type": "code",
   "execution_count": 3,
   "id": "c78970a6-8914-4287-bedb-cf1bc169c426",
   "metadata": {},
   "outputs": [
    {
     "data": {
      "text/plain": [
       "[]"
      ]
     },
     "execution_count": 3,
     "metadata": {},
     "output_type": "execute_result"
    },
    {
     "data": {
      "image/png": "[encoded data removed]",
      "text/plain": [
       "<Figure size 640x480 with 1 Axes>"
      ]
     },
     "metadata": {},
     "output_type": "display_data"
    }
   ],
   "source": [
    "plt.scatter(microphone[0], microphone[1])\n",
    "plt.scatter(object[0], object[1])\n",
    "plt.plot()"
   ]
  },
  {
   "cell_type": "code",
   "execution_count": 24,
   "id": "7d7da22d-9001-424d-91dd-8582fa30d3dc",
   "metadata": {},
   "outputs": [],
   "source": [
    "notes.save('dick', notes.compile(sound/(4*np.pi*LA.norm(microphone - object)**2)))"
   ]
  },
  {
   "cell_type": "code",
   "execution_count": 16,
   "id": "b61e8b07-d155-4e9c-b7e5-94db815b1397",
   "metadata": {},
   "outputs": [
    {
     "ename": "AttributeError",
     "evalue": "module 'notes' has no attribute 'compile'",
     "output_type": "error",
     "traceback": [
      "\u001b[1;31m---------------------------------------------------------------------------\u001b[0m",
      "\u001b[1;31mAttributeError\u001b[0m                            Traceback (most recent call last)",
      "Cell \u001b[1;32mIn[16], line 2\u001b[0m\n\u001b[0;32m      1\u001b[0m \u001b[38;5;66;03m# notes.compile(sound)\u001b[39;00m\n\u001b[1;32m----> 2\u001b[0m notes\u001b[38;5;241m.\u001b[39mcompile\n",
      "\u001b[1;31mAttributeError\u001b[0m: module 'notes' has no attribute 'compile'"
     ]
    }
   ],
   "source": [
    "# notes.compile(sound)\n",
    "notes.compile"
   ]
  }
 ],
 "metadata": {
  "kernelspec": {
   "display_name": "Python 3 (ipykernel)",
   "language": "python",
   "name": "python3"
  },
  "language_info": {
   "codemirror_mode": {
    "name": "ipython",
    "version": 3
   },
   "file_extension": ".py",
   "mimetype": "text/x-python",
   "name": "python",
   "nbconvert_exporter": "python",
   "pygments_lexer": "ipython3",
   "version": "3.11.7"
  }
 },
 "nbformat": 4,
 "nbformat_minor": 5
}
