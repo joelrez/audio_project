{
 "cells": [
  {
   "cell_type": "markdown",
   "id": "7cbb27f8-fc4f-4691-a6df-6c247a4e63e1",
   "metadata": {},
   "source": [
    "# Audio Stuff"
   ]
  },
  {
   "cell_type": "markdown",
   "id": "8a04cf3f-8234-4906-9491-dc40ef1e59cd",
   "metadata": {},
   "source": [
    "## Imports"
   ]
  },
  {
   "cell_type": "code",
   "execution_count": 410,
   "id": "354bd0fb-d6ab-4591-b270-d753a82efddb",
   "metadata": {},
   "outputs": [],
   "source": [
    "import numpy as np\n",
    "import wave\n",
    "import matplotlib.pyplot as plt\n",
    "from scipy import signal\n",
    "import librosa"
   ]
  },
  {
   "cell_type": "markdown",
   "id": "d144cf6e-0aa8-47b0-85b6-f9b7eea227f0",
   "metadata": {},
   "source": [
    "## Function Definitions"
   ]
  },
  {
   "cell_type": "code",
   "execution_count": 452,
   "id": "9756068b-9d04-426f-86b6-a165748dce68",
   "metadata": {},
   "outputs": [],
   "source": [
    "# Create a single period of sine wave.\n",
    "n = round(sample_rate/frequency)\n",
    "periods = round(frequency*duration)\n",
    "t = np.linspace(0.0, 1, int(sample_rate))\n",
    "\n",
    "freqs = { 'C' : 261.63,\n",
    "          'C#' : 277.18,\n",
    "          'D' : 293.66,\n",
    "          'D#' : 311.13,\n",
    "          'E' : 329.63,\n",
    "          'F' : 349.23,\n",
    "          'F#' : 369.99,\n",
    "          'G' : 392,\n",
    "          'G#' : 415.3,\n",
    "          'A' : 440,\n",
    "          'A#' : 466.16,\n",
    "          'B' : 493.88\n",
    "        }\n",
    "\n",
    "def getNote(note):\n",
    "    note_ = note[0:-1]\n",
    "    octave = int(note[-1])\n",
    "    return np.sin(2*t*np.pi*freqs[note_]*2**(octave - 4))"
   ]
  },
  {
   "cell_type": "code",
   "execution_count": 390,
   "id": "5454eb8a-55c5-4200-b888-5eeb41c0bb8e",
   "metadata": {},
   "outputs": [],
   "source": [
    "def save(filename, data):\n",
    "    # open WAV file and write data\n",
    "    with wave.open(filename+'.wav', 'w') as wavfile:\n",
    "        wavfile.setnchannels(num_channels)\n",
    "        wavfile.setsampwidth(sample_width)\n",
    "        wavfile.setframerate(sample_rate)\n",
    "    \n",
    "        wavfile.writeframes(data)"
   ]
  },
  {
   "cell_type": "code",
   "execution_count": 350,
   "id": "51264086-f924-4060-9aaf-4ce5e625bc63",
   "metadata": {},
   "outputs": [],
   "source": [
    "def convert_to_decibel(arr):\n",
    "    ref = 1\n",
    "    if arr!=0:\n",
    "        return 20 * np.log10(abs(arr) / ref)\n",
    "        \n",
    "    else:\n",
    "        return -60\n",
    "\n",
    "dB = [convert_to_decibel(i) for i in data]"
   ]
  },
  {
   "cell_type": "markdown",
   "id": "7e7735a4-536d-4d55-be33-922f261ee2ce",
   "metadata": {},
   "source": [
    "## Jingle Bells"
   ]
  },
  {
   "cell_type": "code",
   "execution_count": 436,
   "id": "003ccd2a-0e41-4ab9-9158-04034ab18924",
   "metadata": {},
   "outputs": [],
   "source": [
    "# set up WAV file parameters\n",
    "num_channels    = 1                             # mono audio\n",
    "sample_width    = 2                            # 8 bits(1 byte)/sample\n",
    "sample_rate     = 44.1e3                        # 44.1k samples/second\n",
    "frequency       = 233.08                          # 440 Hz\n",
    "duration        = 20                            # play for this many seconds"
   ]
  },
  {
   "cell_type": "code",
   "execution_count": 480,
   "id": "96f58209-3ea7-4d33-8329-9ba509cb53e5",
   "metadata": {
    "editable": true,
    "slideshow": {
     "slide_type": ""
    },
    "tags": []
   },
   "outputs": [],
   "source": [
    "E = getNote('E4')\n",
    "silence = 0*t\n",
    "G = getNote('G4')\n",
    "C = getNote('C4')\n",
    "D = getNote('D4')\n",
    "F = getNote('F4')\n",
    "A = getNote('A4')\n",
    "B = getNote('B4')\n",
    "# frequency_t = frequency*(np.sin(np.pi*2*t/2) + 1 + scale)/scale\n",
    "data = (127*np.block([E, E, E, silence, E, E, E, silence, E, G, C, D, E, F, F, F, F, silence, F, E, E, E, E, G, G, F, D, C])).astype(np.int8)\n",
    "save('jinglebells', data)"
   ]
  },
  {
   "cell_type": "code",
   "execution_count": 481,
   "id": "292b481a-73c8-463a-a4f4-d611072e3608",
   "metadata": {},
   "outputs": [],
   "source": [
    "x,sr = librosa.load('jinglebells.wav')\n",
    "\n",
    "S= librosa.magphase(librosa.stft(x, window=np.ones, center=False))[0]\n",
    "\n",
    "\n",
    "rmse = librosa.feature.rms(S = S)"
   ]
  },
  {
   "cell_type": "code",
   "execution_count": 482,
   "id": "b2cfb60b-8545-4070-8eea-204c947beb52",
   "metadata": {},
   "outputs": [
    {
     "data": {
      "image/png": "[encoded data removed]",
      "text/plain": [
       "<Figure size 640x480 with 1 Axes>"
      ]
     },
     "metadata": {},
     "output_type": "display_data"
    }
   ],
   "source": [
    "times = librosa.times_like(rmse)\n",
    "plt.semilogy(times, rmse[0])\n",
    "plt.ylabel('RMS')\n",
    "plt.xlabel('Time(s)')\n",
    "plt.show()"
   ]
  },
  {
   "cell_type": "markdown",
   "id": "4c11fa9e-ccd5-48a6-9512-12ba8fcaf9ac",
   "metadata": {},
   "source": [
    "## Californication\n",
    "An attempt"
   ]
  },
  {
   "cell_type": "code",
   "execution_count": 397,
   "id": "3ae009b8-0974-42d1-abbe-a6811ee74b41",
   "metadata": {},
   "outputs": [],
   "source": [
    "A1 = getNote('A1')\n",
    "D4 = getNote('D4')\n",
    "E4 = getNote('E4')\n",
    "F1 = getNote('F1')\n",
    "G2 = getNote('G2')\n",
    "C4 = getNote('C4')\n",
    "C3 = getNote('C3')\n",
    "A2 = getNote('A2')\n",
    "F3 = getNote('F3')\n",
    "F4 = getNote('F4')\n",
    "\n",
    "# I tried...\n",
    "data = (127*np.block([A2, A2, E4, E4, D4, E4, D4, C4, F3, F3, D4, D4, C4, F3, F3, F4, F4, D4, C3, C3, G2, G2, F1, F1, A1, A1])).astype(np.int8)\n",
    "save('californication', data)"
   ]
  },
  {
   "cell_type": "code",
   "execution_count": 335,
   "id": "49c4cef1-cb7d-4247-bb33-9553127f1be3",
   "metadata": {},
   "outputs": [],
   "source": [
    "# Create a single period of sine wave.\n",
    "n = round(sample_rate/frequency)\n",
    "periods = round(frequency*duration)\n",
    "t = np.linspace(0.0, 1, int(sample_rate))\n",
    "scale = 100\n",
    "frequency_t = frequency*(np.sin(np.pi*2*t/2) + 1 + scale)/scale\n",
    "data = (127*(np.sin(2*np.pi*16.35*3*t) + np.sin(2*np.pi*25.96*3*t) + np.sin(2*np.pi*24.5*3*t))).astype(np.int8) "
   ]
  }
 ],
 "metadata": {
  "kernelspec": {
   "display_name": "Python 3 (ipykernel)",
   "language": "python",
   "name": "python3"
  },
  "language_info": {
   "codemirror_mode": {
    "name": "ipython",
    "version": 3
   },
   "file_extension": ".py",
   "mimetype": "text/x-python",
   "name": "python",
   "nbconvert_exporter": "python",
   "pygments_lexer": "ipython3",
   "version": "3.11.7"
  }
 },
 "nbformat": 4,
 "nbformat_minor": 5
}
